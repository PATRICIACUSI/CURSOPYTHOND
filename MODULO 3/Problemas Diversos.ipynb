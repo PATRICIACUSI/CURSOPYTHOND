{
 "cells": [
  {
   "cell_type": "markdown",
   "metadata": {},
   "source": [
    "# PROBLEMAS DIVERSOS"
   ]
  },
  {
   "cell_type": "markdown",
   "metadata": {},
   "source": [
    "<h3>1.</h3>\n",
    "Realizar una función que permita la carga de n alumnos. Por cada alumno se deberá preguntar el nombre completo y permitir el ingreso de 3 notas. Las notas deben estar comprendidas entre 0 y 10. Devolver el listado de alumnos."
   ]
  },
  {
   "cell_type": "code",
   "execution_count": 20,
   "metadata": {},
   "outputs": [
    {
     "name": "stdin",
     "output_type": "stream",
     "text": [
      "Cuantos alumnos desea ingresas?  4\n",
      "Ingrese el nombre del alumno 1:  Valeria\n",
      "Ingrese la nota 1 del alumno:  10\n",
      "Ingrese la nota 2 del alumno:  9\n",
      "Ingrese la nota 3 del alumno:  8\n",
      "Ingrese el nombre del alumno 2:  Nicol\n",
      "Ingrese la nota 1 del alumno:  7\n",
      "Ingrese la nota 2 del alumno:  8\n",
      "Ingrese la nota 3 del alumno:  5\n",
      "Ingrese el nombre del alumno 3:  Gerardo\n",
      "Ingrese la nota 1 del alumno:  10\n",
      "Ingrese la nota 2 del alumno:  10\n",
      "Ingrese la nota 3 del alumno:  4\n",
      "Ingrese el nombre del alumno 4:  Patty\n",
      "Ingrese la nota 1 del alumno:  8\n",
      "Ingrese la nota 2 del alumno:  5\n",
      "Ingrese la nota 3 del alumno:  10\n"
     ]
    }
   ],
   "source": [
    "cantidad = int(input('Cuantos alumnos desea ingresas? '))\n",
    "lista_alumnos = []\n",
    "for i in range(cantidad):\n",
    "    alumno = {}\n",
    "    \n",
    "    # ingreso nombre\n",
    "    nombre = input(f'Ingrese el nombre del alumno {i+1}: ')\n",
    "    alumno['nombre']= nombre\n",
    "    \n",
    "    #ingreso de notas\n",
    "    alumno['notas'] = []\n",
    "    \n",
    "    for n in range(3):\n",
    "        nota = float(input(f'Ingrese la nota {n+1} del alumno: '))\n",
    "        alumno['notas'].append(nota)\n",
    "    \n",
    "    #agrupando datos en lista\n",
    "    lista_alumnos.append(alumno)"
   ]
  },
  {
   "cell_type": "code",
   "execution_count": 21,
   "metadata": {},
   "outputs": [
    {
     "data": {
      "text/plain": [
       "[{'nombre': 'Valeria', 'notas': [10.0, 9.0, 8.0]},\n",
       " {'nombre': 'Nicol', 'notas': [7.0, 8.0, 5.0]},\n",
       " {'nombre': 'Gerardo', 'notas': [10.0, 10.0, 4.0]},\n",
       " {'nombre': 'Patty', 'notas': [8.0, 5.0, 10.0]}]"
      ]
     },
     "execution_count": 21,
     "metadata": {},
     "output_type": "execute_result"
    }
   ],
   "source": [
    "lista_alumnos"
   ]
  },
  {
   "cell_type": "markdown",
   "metadata": {},
   "source": [
    "### 2.\n",
    "Definir una función que dado un listado de alumnos evalúe cuántos aprobaron y cuántos desaprobaron, teniendo en cuenta que se aprueba con 4. La nota será el promedio de las 3 notas para cada alumno."
   ]
  },
  {
   "cell_type": "code",
   "execution_count": 22,
   "metadata": {},
   "outputs": [
    {
     "name": "stdout",
     "output_type": "stream",
     "text": [
      "Cantidad de alumnos aprobados:  4\n",
      "Cantidad de alumnos desaprobados:  0\n"
     ]
    }
   ],
   "source": [
    "aprobados=0\n",
    "desaprobados=0\n",
    "for persona in lista_alumnos:\n",
    "    if sum(persona['notas'])/3>=4:\n",
    "        aprobados=aprobados+1\n",
    "    else:\n",
    "        desaprobados=desaprobados+1\n",
    "print(\"Cantidad de alumnos aprobados: \",aprobados)\n",
    "print(\"Cantidad de alumnos desaprobados: \", desaprobados)"
   ]
  },
  {
   "cell_type": "markdown",
   "metadata": {},
   "source": [
    "### 3.\n",
    "Informar el promedio de nota del curso total."
   ]
  },
  {
   "cell_type": "code",
   "execution_count": 25,
   "metadata": {},
   "outputs": [
    {
     "name": "stdout",
     "output_type": "stream",
     "text": [
      "El promedio del curso es: 7.833333333333334\n"
     ]
    }
   ],
   "source": [
    "n=0\n",
    "for persona in lista_alumnos:\n",
    "    n=n+sum(persona['notas'])/3\n",
    "print(\"El promedio del curso es:\",(n/cantidad))"
   ]
  },
  {
   "cell_type": "code",
   "execution_count": null,
   "metadata": {},
   "outputs": [],
   "source": []
  },
  {
   "cell_type": "markdown",
   "metadata": {},
   "source": [
    "### 4.\n",
    "Realizar una función que indique quién tuvo el promedio más alto y quién tuvo la nota promedio más baja."
   ]
  },
  {
   "cell_type": "code",
   "execution_count": 43,
   "metadata": {},
   "outputs": [
    {
     "name": "stdout",
     "output_type": "stream",
     "text": [
      "El promedio mas bajo es 6.666666666666667\n",
      "El promedio mas alto es 9.0\n"
     ]
    }
   ],
   "source": [
    "def prom_maxymin():\n",
    "    maximo = 10\n",
    "    minimo = 0\n",
    "    for n in lista_alumnos:\n",
    "        if ((sum(n['notas'])/3) <= maximo):\n",
    "            maximo = sum(n['notas'])/3\n",
    "    print('El promedio mas bajo es {}'.format(maximo))\n",
    "    \n",
    "    for n in lista_alumnos:\n",
    "        if ((sum(n['notas'])/3) >= minimo):\n",
    "            minimo = sum(n['notas'])/3\n",
    "    print('El promedio mas alto es {}'.format(minimo))\n",
    "prom_maxymin()"
   ]
  },
  {
   "cell_type": "code",
   "execution_count": null,
   "metadata": {},
   "outputs": [],
   "source": []
  },
  {
   "cell_type": "markdown",
   "metadata": {},
   "source": [
    "### 5.\n",
    "Realizar una función que permita buscar un alumno por nombre, siendo el nombre completo o parcial, y devuelva una lista con los n alumnos que concuerden con ese nombre junto con todos sus datos, incluido el promedio de sus notas."
   ]
  },
  {
   "cell_type": "code",
   "execution_count": 26,
   "metadata": {},
   "outputs": [
    {
     "name": "stdin",
     "output_type": "stream",
     "text": [
      "Ingrese cantidad 2\n",
      "Ingrese el nombre del alumno 1:  Valeria\n",
      "Ingrese Nota 1:  10\n",
      "Ingrese Nota 2:  6\n",
      "Ingrese Nota 3:  3\n",
      "Ingrese el nombre del alumno 2:  10\n",
      "Ingrese Nota 1:  7\n",
      "Ingrese Nota 2:  9\n",
      "Ingrese Nota 3:  4\n"
     ]
    },
    {
     "name": "stdout",
     "output_type": "stream",
     "text": [
      "Alumnos \t Notas\n",
      "Valeria \t \t 10.0 6.0 3.0\n",
      "10 \t \t 7.0 9.0 4.0\n"
     ]
    }
   ],
   "source": [
    "def alumno(n):\n",
    "    notas=[]\n",
    "    nombre=[]\n",
    "    for i in range(n):\n",
    "        name= input(f'Ingrese el nombre del alumno {i+1}: ')\n",
    "        nombre.append(name)\n",
    "        nota_1 = float(input('Ingrese Nota 1: '))\n",
    "        nota_2 = float(input('Ingrese Nota 2: '))\n",
    "        nota_3 = float(input('Ingrese Nota 3: '))\n",
    "        notas.append([nota_1,nota_2,nota_3])\n",
    "    print(\"Alumnos \\t Notas\")\n",
    "    for i in range(n):\n",
    "        print(nombre[i],\"\\t \\t\",notas[i][0],notas[i][1],notas[i][2])\n",
    "n=int(input(\"Ingrese cantidad\"))\n",
    "alumno(n)"
   ]
  },
  {
   "cell_type": "code",
   "execution_count": null,
   "metadata": {},
   "outputs": [],
   "source": []
  }
 ],
 "metadata": {
  "kernelspec": {
   "display_name": "Python 3",
   "language": "python",
   "name": "python3"
  },
  "language_info": {
   "codemirror_mode": {
    "name": "ipython",
    "version": 3
   },
   "file_extension": ".py",
   "mimetype": "text/x-python",
   "name": "python",
   "nbconvert_exporter": "python",
   "pygments_lexer": "ipython3",
   "version": "3.8.5"
  }
 },
 "nbformat": 4,
 "nbformat_minor": 4
}
